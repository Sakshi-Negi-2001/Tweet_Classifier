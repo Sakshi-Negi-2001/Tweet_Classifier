{
 "cells": [
  {
   "attachments": {},
   "cell_type": "markdown",
   "metadata": {},
   "source": [
    "<h3>Libraries</h3>"
   ]
  },
  {
   "cell_type": "code",
   "execution_count": 55,
   "metadata": {},
   "outputs": [],
   "source": [
    "import tweepy\n",
    "import pandas as pd"
   ]
  },
  {
   "attachments": {},
   "cell_type": "markdown",
   "metadata": {},
   "source": [
    "<h3>Authentication to Twitter API</h3>"
   ]
  },
  {
   "cell_type": "code",
   "execution_count": 56,
   "metadata": {},
   "outputs": [],
   "source": [
    "CONSUMER_KEY = '3kS8RKksqz6za5nsA4JGOhdVl'\n",
    "CONSUMER_SECRET = 'wxM7RXahXfhWrIumrbbH7OFCaFJ6wi3RLCqh08n1j9hce5kgjY'\n",
    "ACCESS_TOKEN = '1600102247077027840-GDG2EbBYQAav8JUcnO1hOj1wL53KkY'\n",
    "ACCESS_TOKEN_SECRET = 'gooFXvZxX5XTeD2U8TxAhDvGHa3V4Lo225E14WMdtDqqU'\n",
    "\n",
    "# Authenticate to Twitter API\n",
    "auth = tweepy.OAuth1UserHandler(\n",
    "    CONSUMER_KEY,\n",
    "    CONSUMER_SECRET,\n",
    "    ACCESS_TOKEN,\n",
    "    ACCESS_TOKEN_SECRET\n",
    ")\n",
    "\n",
    "# Create API object\n",
    "api = tweepy.API(auth)"
   ]
  },
  {
   "attachments": {},
   "cell_type": "markdown",
   "metadata": {},
   "source": [
    "<h3>Search Parameters</h3>"
   ]
  },
  {
   "cell_type": "code",
   "execution_count": 57,
   "metadata": {},
   "outputs": [],
   "source": [
    "# Create a list to store the tweet data\n",
    "tweet_data = []\n",
    "\n",
    "# Define a list of hashtags to search for\n",
    "hashtags = ['#farmersprotest', '#khalistan']\n",
    "\n",
    "# Set the starting date for the search\n",
    "start_date = '20202-08-09'\n",
    "\n",
    "# Set the ending date for the search\n",
    "end_date = '2021-12-11'"
   ]
  },
  {
   "attachments": {},
   "cell_type": "markdown",
   "metadata": {},
   "source": [
    "<h3>Fetch Tweets</h3>"
   ]
  },
  {
   "cell_type": "code",
   "execution_count": 58,
   "metadata": {},
   "outputs": [],
   "source": [
    "# Iterate over the list of hashtags\n",
    "for hashtag in hashtags:\n",
    "    # Search for tweets with the current hashtag\n",
    "    tweets = tweepy.Cursor(api.search_tweets, q=hashtag, lang='en').items(1500)\n",
    "\n",
    "    # Append the tweet data to the list\n",
    "    for tweet in tweets:\n",
    "        tweet_data.append({\n",
    "            'user_screen_name': tweet.user.screen_name,\n",
    "            'created_at': tweet.created_at,\n",
    "            'text': tweet.text,\n",
    "            'hashtags': [hashtag['text'] for hashtag in tweet.entities['hashtags']],\n",
    "            'user_name': tweet.user.name,\n",
    "            'user_location': tweet.user.location,\n",
    "            'retweet_count': tweet.retweet_count,\n",
    "            'favorite_count': tweet.favorite_count\n",
    "        })"
   ]
  },
  {
   "attachments": {},
   "cell_type": "markdown",
   "metadata": {},
   "source": [
    "<h3>Save Dataset in CSV</h3>"
   ]
  },
  {
   "cell_type": "code",
   "execution_count": 59,
   "metadata": {},
   "outputs": [],
   "source": [
    "# Create a DataFrame from the tweet data\n",
    "df = pd.DataFrame(tweet_data)\n",
    "\n",
    "# Save the DataFrame to a CSV file\n",
    "df.to_csv('raw_tweets.csv', index=False)"
   ]
  }
 ],
 "metadata": {
  "kernelspec": {
   "display_name": "Python 3",
   "language": "python",
   "name": "python3"
  },
  "language_info": {
   "codemirror_mode": {
    "name": "ipython",
    "version": 3
   },
   "file_extension": ".py",
   "mimetype": "text/x-python",
   "name": "python",
   "nbconvert_exporter": "python",
   "pygments_lexer": "ipython3",
   "version": "3.11.0 (main, Oct 24 2022, 18:26:48) [MSC v.1933 64 bit (AMD64)]"
  },
  "orig_nbformat": 4,
  "vscode": {
   "interpreter": {
    "hash": "5238573367df39f7286bb46f9ff5f08f63a01a80960060ce41e3c79b190280fa"
   }
  }
 },
 "nbformat": 4,
 "nbformat_minor": 2
}
