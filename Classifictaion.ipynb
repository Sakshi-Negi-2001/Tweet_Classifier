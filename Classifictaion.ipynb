{
 "cells": [
  {
   "cell_type": "code",
   "execution_count": 12,
   "metadata": {},
   "outputs": [],
   "source": [
    "import pandas as pd\n",
    "import numpy as np\n",
    "from sklearn.feature_extraction.text import TfidfVectorizer, CountVectorizer\n",
    "from sklearn.model_selection import train_test_split\n",
    "from sklearn.metrics import precision_score, recall_score, f1_score"
   ]
  },
  {
   "cell_type": "code",
   "execution_count": 13,
   "metadata": {},
   "outputs": [],
   "source": [
    "# Read the first CSV file\n",
    "df1 = pd.read_csv('./original/test_with_label.csv')\n",
    "\n",
    "# Read the second CSV file\n",
    "df2 = pd.read_csv('./original/train_with_label.csv')\n",
    "\n",
    "# Merge the two DataFrames\n",
    "df = pd.concat([df1, df2])\n",
    "\n",
    "# Shuffle the rows\n",
    "df.to_csv('./original/combined_dataset.csv')"
   ]
  },
  {
   "cell_type": "code",
   "execution_count": 14,
   "metadata": {},
   "outputs": [],
   "source": [
    "X_train, X_test, y_train, y_test = train_test_split(df.tweet.values.tolist(), df.label, test_size=0.2, shuffle=True, random_state=22)"
   ]
  },
  {
   "cell_type": "code",
   "execution_count": 15,
   "metadata": {},
   "outputs": [
    {
     "name": "stdout",
     "output_type": "stream",
     "text": [
      "32.87856444554719\n"
     ]
    }
   ],
   "source": [
    "len(X_train)\n",
    "print(1081**0.5)"
   ]
  },
  {
   "cell_type": "code",
   "execution_count": 16,
   "metadata": {},
   "outputs": [],
   "source": [
    "tfidf_vec = TfidfVectorizer(sublinear_tf=True, min_df=3, norm='l2', stop_words='english')\n",
    "tfidf_vec.fit(X_train)\n",
    "X_train_tfidf = tfidf_vec.transform(X_train).toarray()\n",
    "X_test_tfidf = tfidf_vec.transform(X_test).toarray()"
   ]
  },
  {
   "attachments": {},
   "cell_type": "markdown",
   "metadata": {},
   "source": [
    "## KNN"
   ]
  },
  {
   "cell_type": "code",
   "execution_count": 17,
   "metadata": {},
   "outputs": [
    {
     "name": "stdout",
     "output_type": "stream",
     "text": [
      "Accuracy: 0.7232472324723247\n",
      "Precision: 0.7171717171717171\n",
      "Recall: 0.8819875776397516\n",
      "F1-score: 0.7910863509749303\n"
     ]
    }
   ],
   "source": [
    "from sklearn.neighbors import KNeighborsClassifier\n",
    "neighbours = 33\n",
    "knn = KNeighborsClassifier(n_neighbors=neighbours)\n",
    "\n",
    "knn.fit(X_train_tfidf, y_train)\n",
    "\n",
    "knn_accuracy = knn.score(X_test_tfidf, y_test)\n",
    "\n",
    "y_pred = knn.predict(X_test_tfidf)\n",
    "\n",
    "precision = precision_score(y_test, y_pred)\n",
    "\n",
    "recall = recall_score(y_test, y_pred)\n",
    "\n",
    "f1 = f1_score(y_test, y_pred)\n",
    "\n",
    "# Print the results\n",
    "print(\"Accuracy:\", knn_accuracy)\n",
    "print(\"Precision:\", precision)\n",
    "print(\"Recall:\", recall)\n",
    "print(\"F1-score:\", f1)"
   ]
  },
  {
   "attachments": {},
   "cell_type": "markdown",
   "metadata": {},
   "source": [
    "## SVM"
   ]
  },
  {
   "cell_type": "code",
   "execution_count": 18,
   "metadata": {},
   "outputs": [
    {
     "name": "stdout",
     "output_type": "stream",
     "text": [
      "Accuracy: 0.7896678966789668\n",
      "Precision: 0.8170731707317073\n",
      "Recall: 0.8322981366459627\n",
      "F1-score: 0.8246153846153846\n"
     ]
    }
   ],
   "source": [
    "from sklearn.svm import LinearSVC\n",
    "\n",
    "svc = LinearSVC()\n",
    "\n",
    "svc.fit(X_train_tfidf, y_train)\n",
    "\n",
    "svc_accuracy = svc.score(X_test_tfidf, y_test)\n",
    "\n",
    "y_pred = svc.predict(X_test_tfidf)\n",
    "\n",
    "svc_precision = precision_score(y_test, y_pred)\n",
    "\n",
    "svc_recall = recall_score(y_test, y_pred)\n",
    "\n",
    "svc_f1 = f1_score(y_test, y_pred)\n",
    "\n",
    "# Print the results\n",
    "print(\"Accuracy:\", svc_accuracy)\n",
    "print(\"Precision:\", svc_precision)\n",
    "print(\"Recall:\", svc_recall)\n",
    "print(\"F1-score:\", svc_f1)"
   ]
  }
 ],
 "metadata": {
  "kernelspec": {
   "display_name": "Python 3",
   "language": "python",
   "name": "python3"
  },
  "language_info": {
   "codemirror_mode": {
    "name": "ipython",
    "version": 3
   },
   "file_extension": ".py",
   "mimetype": "text/x-python",
   "name": "python",
   "nbconvert_exporter": "python",
   "pygments_lexer": "ipython3",
   "version": "3.11.0"
  },
  "orig_nbformat": 4,
  "vscode": {
   "interpreter": {
    "hash": "5238573367df39f7286bb46f9ff5f08f63a01a80960060ce41e3c79b190280fa"
   }
  }
 },
 "nbformat": 4,
 "nbformat_minor": 2
}
